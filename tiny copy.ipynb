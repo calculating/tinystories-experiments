{
 "cells": [
  {
   "cell_type": "code",
   "execution_count": 117,
   "metadata": {},
   "outputs": [],
   "source": [
    "from datasets import load_dataset\n",
    "import pickle\n",
    "from transformers import GPT2Tokenizer\n",
    "from datasets import DatasetDict\n",
    "import matplotlib.pyplot as plt\n",
    "\n",
    "import torch as t\n",
    "import torch.nn as nn\n",
    "import torch.nn.functional as f"
   ]
  },
  {
   "cell_type": "code",
   "execution_count": 70,
   "metadata": {},
   "outputs": [
    {
     "name": "stderr",
     "output_type": "stream",
     "text": [
      "Found cached dataset text (/Users/galen/.cache/huggingface/datasets/roneneldan___text/roneneldan--TinyStoriesInstruct-75365d46742beced/0.0.0/cb1e9bd71a82ad27976be3b12b407850fe2837d80c22c5e03a28949843a8ace2)\n"
     ]
    },
    {
     "data": {
      "application/vnd.jupyter.widget-view+json": {
       "model_id": "87676a599c0b441eb3c324452025cffb",
       "version_major": 2,
       "version_minor": 0
      },
      "text/plain": [
       "  0%|          | 0/2 [00:00<?, ?it/s]"
      ]
     },
     "metadata": {},
     "output_type": "display_data"
    },
    {
     "name": "stdout",
     "output_type": "stream",
     "text": [
      "Features: Dialogue\n",
      "Words: quit, oak, gloomy\n",
      "Summary: Sara and Ben were playing in the park, but Sara wanted to go home because it was cold and dark. Ben convinced her to stay and play, but eventually agreed to go home and have hot cocoa.\n",
      "Story: \n",
      "\n",
      "Sara and Ben were playing in the park. They liked to climb the big oak tree and pretend they were birds. They made nests with leaves and twigs and sang songs.\n",
      "But today, the sky was gloomy and the wind was cold. Sara felt sad and cold. She wanted to go home and have some hot cocoa.\n",
      "\"Ben, I want to quit,\" she said. \"It's too cold and dark. Let's go home.\"\n",
      "Ben looked at Sara and frowned. He liked the oak tree and the park. He wanted to stay and play.\n",
      "\"No, Sara, don't quit,\" he said. \"It's fun here. Look, there's a squirrel. Let's chase it.\"\n",
      "Sara shook her head. She didn't want to chase the squirrel. She wanted to go home and have some hot cocoa.\n",
      "\"Please, Ben, let's go home,\" she said. \"We can play here another day. I'm cold and hungry.\"\n",
      "Ben saw that Sara was shivering and looked unhappy. He loved his sister and didn't want her to be sad. He nodded and smiled.\n",
      "\"Okay, Sara, let's go home,\" he said. \"We can have some hot cocoa and cookies. And we can play with our toys.\"\n",
      "Sara hugged Ben and thanked him. They climbed down the oak tree and ran to their mom, who was waiting for them. They told her about their adventure and asked for some hot cocoa and cookies. Mom smiled and agreed. She was proud of her children for being brave and kind. They went home and had a cozy and happy time.\n",
      "<|endoftext|>\n",
      "DatasetDict({\n",
      "    train: Dataset({\n",
      "        features: ['text'],\n",
      "        num_rows: 21755681\n",
      "    })\n",
      "    validation: Dataset({\n",
      "        features: ['text'],\n",
      "        num_rows: 218380\n",
      "    })\n",
      "})\n"
     ]
    }
   ],
   "source": [
    "dataset:DatasetDict = load_dataset(\"roneneldan/TinyStoriesInstruct\") # type: ignore\n",
    "\n",
    "for i in range(16):\n",
    "    print(dataset['train'][i]['text'])\n",
    "\n",
    "with open('dataset_unprocessed.txt', 'wb') as output_file:\n",
    "    pickle.dump(dataset, output_file)\n",
    "\n",
    "# with open('dataset_unprocessed.txt', 'rb') as input_file:\n",
    "#     dataset = pickle.load(input_file)\n",
    "\n",
    "print(dataset)"
   ]
  },
  {
   "cell_type": "code",
   "execution_count": 73,
   "metadata": {},
   "outputs": [],
   "source": [
    "tokenizer = GPT2Tokenizer.from_pretrained(\"EleutherAI/gpt-neo-1.3B\")\n"
   ]
  },
  {
   "cell_type": "code",
   "execution_count": 95,
   "metadata": {},
   "outputs": [
    {
     "name": "stdout",
     "output_type": "stream",
     "text": [
      "{'input_ids': [18927, 220, 198, 351, 257, 1627, 220, 198, 2270], 'attention_mask': [1, 1, 1, 1, 1, 1, 1, 1, 1]}\n",
      "['something', ' ', '\\n', ' with', ' a', ' line', ' ', '\\n', ' break']\n"
     ]
    }
   ],
   "source": [
    "linebreak_test = tokenizer(\"something \\n with a line \\n break\")\n",
    "gen_text = tokenizer.batch_decode(linebreak_test['input_ids'])\n",
    "print(linebreak_test)\n",
    "print(gen_text)"
   ]
  },
  {
   "cell_type": "code",
   "execution_count": 96,
   "metadata": {},
   "outputs": [
    {
     "name": "stdout",
     "output_type": "stream",
     "text": [
      "21755681\n"
     ]
    }
   ],
   "source": [
    "print(len(dataset['train'])) "
   ]
  },
  {
   "cell_type": "code",
   "execution_count": 86,
   "metadata": {},
   "outputs": [
    {
     "name": "stdout",
     "output_type": "stream",
     "text": [
      "done tokenizing\n",
      "dict_keys(['input_ids'])\n"
     ]
    }
   ],
   "source": [
    "dat_tok = tokenizer(dataset['train'][:10000]['text'], return_attention_mask=False)\n",
    "print('done tokenizing')\n",
    "print(dat_tok.keys())\n"
   ]
  },
  {
   "cell_type": "code",
   "execution_count": 106,
   "metadata": {},
   "outputs": [
    {
     "name": "stdout",
     "output_type": "stream",
     "text": [
      "[23595, 25, 34709]\n",
      "[37117, 25, 11238, 11, 26210, 11, 46400]\n",
      "[22093, 25, 24799, 290, 3932, 547, 2712, 287, 262, 3952, 11, 475, 24799, 2227, 284, 467, 1363, 780, 340, 373, 4692, 290, 3223, 13, 3932, 9431, 607, 284, 2652, 290, 711, 11, 475, 4191, 4987, 284, 467, 1363, 290, 423, 3024, 35845, 13]\n",
      "[11605, 25, 220]\n",
      "[]\n",
      "[50, 3301, 290, 3932, 547, 2712, 287, 262, 3952, 13, 1119, 8288, 284, 12080, 262, 1263, 26210, 5509, 290, 16614, 484, 547, 10087, 13, 1119, 925, 44382, 351, 5667, 290, 665, 9235, 290, 25889, 7259, 13]\n",
      "[1537, 1909, 11, 262, 6766, 373, 46400, 290, 262, 2344, 373, 4692, 13, 24799, 2936, 6507, 290, 4692, 13, 1375, 2227, 284, 467, 1363, 290, 423, 617, 3024, 35845, 13]\n",
      "[1, 11696, 11, 314, 765, 284, 11238, 553, 673, 531, 13, 366, 1026, 338, 1165, 4692, 290, 3223, 13, 3914, 338, 467, 1363, 526]\n",
      "[11696, 3114, 379, 24799, 290, 32198, 13, 679, 8288, 262, 26210, 5509, 290, 262, 3952, 13, 679, 2227, 284, 2652, 290, 711, 13]\n",
      "[1, 2949, 11, 24799, 11, 836, 470, 11238, 553, 339, 531, 13, 366, 1026, 338, 1257, 994, 13, 6803, 11, 612, 338, 257, 33039, 13, 3914, 338, 15505, 340, 526]\n",
      "[50, 3301, 14682, 607, 1182, 13, 1375, 1422, 470, 765, 284, 15505, 262, 33039, 13, 1375, 2227, 284, 467, 1363, 290, 423, 617, 3024, 35845, 13]\n",
      "[1, 5492, 11, 3932, 11, 1309, 338, 467, 1363, 553, 673, 531, 13, 366, 1135, 460, 711, 994, 1194, 1110, 13, 314, 1101, 4692, 290, 14720, 526]\n",
      "[11696, 2497, 326, 24799, 373, 427, 35598, 290, 3114, 19283, 13, 679, 6151, 465, 6621, 290, 1422, 470, 765, 607, 284, 307, 6507, 13, 679, 14464, 290, 13541, 13]\n",
      "[1, 16454, 11, 24799, 11, 1309, 338, 467, 1363, 553, 339, 531, 13, 366, 1135, 460, 423, 617, 3024, 35845, 290, 14746, 13, 843, 356, 460, 711, 351, 674, 14958, 526]\n",
      "[50, 3301, 41130, 3932, 290, 26280, 683, 13, 1119, 19952, 866, 262, 26210, 5509, 290, 4966, 284, 511, 1995, 11, 508, 373, 4953, 329, 606, 13, 1119, 1297, 607, 546, 511, 8855, 290, 1965, 329, 617, 3024, 35845, 290, 14746, 13, 11254, 13541, 290, 4987, 13, 1375, 373, 6613, 286, 607, 1751, 329, 852, 14802, 290, 1611, 13, 1119, 1816, 1363, 290, 550, 257, 37438, 290, 3772, 640, 13]\n",
      "[50256]\n",
      "[22093, 25, 20037, 28052, 257, 649, 7161, 422, 257, 3650, 290, 3011, 656, 281, 5778, 981, 10311, 340, 11, 7186, 287, 607, 1972, 5938, 290, 852, 1908, 284, 7356, 11, 6078, 607, 3397, 6, 3774, 290, 1842, 13, 383, 6573, 286, 262, 1621, 318, 407, 284, 8711, 13]\n"
     ]
    }
   ],
   "source": [
    "for i in range(17):\n",
    "    print(dat_tok['input_ids'][i])"
   ]
  },
  {
   "cell_type": "code",
   "execution_count": 120,
   "metadata": {},
   "outputs": [
    {
     "data": {
      "image/png": "[encoded data removed]",
      "text/plain": [
       "<Figure size 640x480 with 1 Axes>"
      ]
     },
     "metadata": {},
     "output_type": "display_data"
    }
   ],
   "source": [
    "eot_token_id = 50256\n",
    "linebreak_token_id = 198\n",
    "\n",
    "new_dat_tok = []\n",
    "new_sample = []\n",
    "\n",
    "for sample in dat_tok['input_ids']:\n",
    "    for token in sample:\n",
    "        if token == eot_token_id:\n",
    "            new_sample.append(token)\n",
    "            new_dat_tok.append(new_sample)\n",
    "            new_sample = []\n",
    "            break\n",
    "        else:\n",
    "            new_sample.append(token)\n",
    "    new_sample.append(linebreak_token_id)\n",
    "\n",
    "\n",
    "sequence_lengths = [len(seq) for seq in new_dat_tok]\n",
    "plt.hist(sequence_lengths, bins=50)\n",
    "plt.title(\"Sequence Length Distribution\"); plt.xlabel(\"Sequence Length\"); plt.ylabel(\"Frequency\")\n",
    "plt.show()\n",
    "\n",
    "\n"
   ]
  },
  {
   "cell_type": "code",
   "execution_count": null,
   "metadata": {},
   "outputs": [],
   "source": []
  },
  {
   "cell_type": "code",
   "execution_count": 87,
   "metadata": {},
   "outputs": [],
   "source": [
    "\n",
    "with open('dataset_train_tokenized_small.txt', 'wb') as output_file:\n",
    "    pickle.dump(dat_tok, output_file)\n",
    "\n",
    "# with open('dataset_tokenized.txt', 'rb') as input_file:\n",
    "#     dat_tok = pickle.load(input_file)\n"
   ]
  },
  {
   "cell_type": "code",
   "execution_count": null,
   "metadata": {},
   "outputs": [],
   "source": [
    "\n",
    "print(test_tok)\n",
    "print(test_tok['input_ids'][0])\n",
    "gen_text = tokenizer.batch_decode(test_tok['input_ids'][0])\n",
    "print(gen_text)"
   ]
  },
  {
   "cell_type": "code",
   "execution_count": null,
   "metadata": {},
   "outputs": [],
   "source": [
    "\n",
    "from transformers import AutoTokenizer\n",
    "tokenizer = AutoTokenizer.from_pretrained('bert-base-cased')\n",
    "\n",
    "tokenized_dataset = squad_dataset.map(lambda x: tokenizer(x['context']), batched=True)"
   ]
  },
  {
   "cell_type": "code",
   "execution_count": 8,
   "metadata": {},
   "outputs": [],
   "source": [
    "from transformers import AutoTokenizer\n"
   ]
  },
  {
   "cell_type": "code",
   "execution_count": 9,
   "metadata": {},
   "outputs": [
    {
     "name": "stdout",
     "output_type": "stream",
     "text": [
      "{'input_ids': [3198, 1110, 11, 257, 1310, 2576, 3706, 20037, 1043, 257, 17598, 287, 607, 2119, 13, 1375, 2993, 340, 373, 2408, 284, 711, 351, 340, 780, 340, 373, 7786, 13, 20037, 2227, 284, 2648, 262, 17598, 351, 607, 1995, 11, 523, 673, 714, 34249, 257, 4936, 319, 607, 10147, 13], 'attention_mask': [1, 1, 1, 1, 1, 1, 1, 1, 1, 1, 1, 1, 1, 1, 1, 1, 1, 1, 1, 1, 1, 1, 1, 1, 1, 1, 1, 1, 1, 1, 1, 1, 1, 1, 1, 1, 1, 1, 1, 1, 1, 1, 1, 1, 1, 1, 1, 1, 1]}\n"
     ]
    },
    {
     "name": "stderr",
     "output_type": "stream",
     "text": [
      "Loading cached processed dataset at /Users/galen/.cache/huggingface/datasets/roneneldan___text/roneneldan--TinyStories-606807761d49cf6d/0.0.0/cb1e9bd71a82ad27976be3b12b407850fe2837d80c22c5e03a28949843a8ace2/cache-149fa0818856e822.arrow\n"
     ]
    },
    {
     "ename": "KeyError",
     "evalue": "'test'",
     "output_type": "error",
     "traceback": [
      "\u001b[0;31m---------------------------------------------------------------------------\u001b[0m",
      "\u001b[0;31mKeyError\u001b[0m                                  Traceback (most recent call last)",
      "Cell \u001b[0;32mIn[9], line 8\u001b[0m\n\u001b[1;32m      5\u001b[0m     \u001b[39mreturn\u001b[39;00m tokenizer(dat[\u001b[39m\"\u001b[39m\u001b[39mtext\u001b[39m\u001b[39m\"\u001b[39m])\n\u001b[1;32m      7\u001b[0m dtrain \u001b[39m=\u001b[39m dataset[\u001b[39m\"\u001b[39m\u001b[39mtrain\u001b[39m\u001b[39m\"\u001b[39m]\u001b[39m.\u001b[39mmap(tokenization, batched\u001b[39m=\u001b[39m\u001b[39mTrue\u001b[39;00m) \u001b[39m# type: ignore\u001b[39;00m\n\u001b[0;32m----> 8\u001b[0m dtest \u001b[39m=\u001b[39m dataset[\u001b[39m\"\u001b[39;49m\u001b[39mtest\u001b[39;49m\u001b[39m\"\u001b[39;49m]\u001b[39m.\u001b[39mmap(tokenization, batched\u001b[39m=\u001b[39m\u001b[39mTrue\u001b[39;00m) \u001b[39m# type: ignore\u001b[39;00m\n",
      "File \u001b[0;32m/opt/homebrew/Caskroom/miniconda/base/lib/python3.10/site-packages/datasets/dataset_dict.py:57\u001b[0m, in \u001b[0;36mDatasetDict.__getitem__\u001b[0;34m(self, k)\u001b[0m\n\u001b[1;32m     55\u001b[0m \u001b[39mdef\u001b[39;00m \u001b[39m__getitem__\u001b[39m(\u001b[39mself\u001b[39m, k) \u001b[39m-\u001b[39m\u001b[39m>\u001b[39m Dataset:\n\u001b[1;32m     56\u001b[0m     \u001b[39mif\u001b[39;00m \u001b[39misinstance\u001b[39m(k, (\u001b[39mstr\u001b[39m, NamedSplit)) \u001b[39mor\u001b[39;00m \u001b[39mlen\u001b[39m(\u001b[39mself\u001b[39m) \u001b[39m==\u001b[39m \u001b[39m0\u001b[39m:\n\u001b[0;32m---> 57\u001b[0m         \u001b[39mreturn\u001b[39;00m \u001b[39msuper\u001b[39;49m()\u001b[39m.\u001b[39;49m\u001b[39m__getitem__\u001b[39;49m(k)\n\u001b[1;32m     58\u001b[0m     \u001b[39melse\u001b[39;00m:\n\u001b[1;32m     59\u001b[0m         available_suggested_splits \u001b[39m=\u001b[39m [\n\u001b[1;32m     60\u001b[0m             split \u001b[39mfor\u001b[39;00m split \u001b[39min\u001b[39;00m (Split\u001b[39m.\u001b[39mTRAIN, Split\u001b[39m.\u001b[39mTEST, Split\u001b[39m.\u001b[39mVALIDATION) \u001b[39mif\u001b[39;00m split \u001b[39min\u001b[39;00m \u001b[39mself\u001b[39m\n\u001b[1;32m     61\u001b[0m         ]\n",
      "\u001b[0;31mKeyError\u001b[0m: 'test'"
     ]
    }
   ],
   "source": [
    "\n",
    "tokenizer = AutoTokenizer.from_pretrained(\"roneneldan/TinyStories-Instruct-33M\")\n",
    "print(tokenizer(dataset['train'][0]['text'])) # type: ignore\n",
    "\n",
    "def tokenization(dat):\n",
    "    return tokenizer(dat[\"text\"])\n",
    "\n",
    "dtrain = dataset[\"train\"].map(tokenization, batched=True) # type: ignore\n",
    "dtest = dataset[\"test\"].map(tokenization, batched=True) # type: ignore\n",
    "\n"
   ]
  },
  {
   "cell_type": "code",
   "execution_count": null,
   "metadata": {},
   "outputs": [],
   "source": []
  },
  {
   "cell_type": "code",
   "execution_count": 10,
   "metadata": {},
   "outputs": [
    {
     "name": "stdout",
     "output_type": "stream",
     "text": [
      "Dataset({\n",
      "    features: ['text', 'input_ids', 'attention_mask'],\n",
      "    num_rows: 30415547\n",
      "})\n"
     ]
    }
   ],
   "source": [
    "print(dtrain)"
   ]
  },
  {
   "cell_type": "code",
   "execution_count": 12,
   "metadata": {},
   "outputs": [
    {
     "data": {
      "text/plain": [
       "'torch'"
      ]
     },
     "execution_count": 12,
     "metadata": {},
     "output_type": "execute_result"
    }
   ],
   "source": [
    "dtrain.set_format(type=\"torch\", columns=[\"input_ids\", \"attention_mask\"])\n",
    "\n",
    "dtrain.format['type']"
   ]
  },
  {
   "cell_type": "code",
   "execution_count": 13,
   "metadata": {},
   "outputs": [],
   "source": [
    "import torch as t\n",
    "import torch.nn as nn\n",
    "import torch.nn.functional as f\n",
    "t.set_default_device('mps')"
   ]
  },
  {
   "cell_type": "code",
   "execution_count": 14,
   "metadata": {},
   "outputs": [],
   "source": [
    "# create a transformer\n",
    "class trans(nn.Module):\n",
    "    def __init__(self, dm=512):\n",
    "        super().__init__()\n",
    "        self.inbed = nn.Linear(50257, dm)\n",
    "        self.think = nn.TransformerEncoderLayer(d_model=dm, nhead=4, activation='gelu')\n",
    "        self.thinker = nn.TransformerEncoder(self.think, num_layers=8)\n",
    "        self.out = nn.Linear(dm, 2)\n",
    "    def forward(self, x):\n",
    "        mask = nn.Transformer.generate_square_subsequent_mask(x.shape[1])\n",
    "        x = self.inbed(x)\n",
    "        x = self.thinker(x, mask=mask, is_causal=True)\n",
    "        return self.out(x)\n",
    "    \n",
    "storier = trans()"
   ]
  }
 ],
 "metadata": {
  "kernelspec": {
   "display_name": "base",
   "language": "python",
   "name": "python3"
  },
  "language_info": {
   "codemirror_mode": {
    "name": "ipython",
    "version": 3
   },
   "file_extension": ".py",
   "mimetype": "text/x-python",
   "name": "python",
   "nbconvert_exporter": "python",
   "pygments_lexer": "ipython3",
   "version": "3.10.9"
  },
  "orig_nbformat": 4
 },
 "nbformat": 4,
 "nbformat_minor": 2
}
